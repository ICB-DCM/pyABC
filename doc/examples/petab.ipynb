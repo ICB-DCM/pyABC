{
 "cells": [
  {
   "cell_type": "markdown",
   "metadata": {},
   "source": [
    "# PEtab import"
   ]
  },
  {
   "cell_type": "markdown",
   "metadata": {},
   "source": [
    "This illustrates how the PEtab format can be used together with the ODE simulation toolbox AMICI to define ODE based parameter estimation problems for pyABC."
   ]
  },
  {
   "cell_type": "code",
   "execution_count": 1,
   "metadata": {},
   "outputs": [],
   "source": [
    "import petab\n",
    "import pyabc\n",
    "import amici.petab_import\n",
    "from pyabc.petab import AmiciPetabImporter"
   ]
  },
  {
   "cell_type": "code",
   "execution_count": 2,
   "metadata": {},
   "outputs": [
    {
     "data": {
      "text/plain": [
       "{'llh': -138.22199570334107}"
      ]
     },
     "execution_count": 2,
     "metadata": {},
     "output_type": "execute_result"
    }
   ],
   "source": [
    "petab_problem = petab.Problem.from_yaml(\"/home/yannik/benchmark-models/\"\n",
    "                                        \"hackathon_contributions_new_data_format/\"\n",
    "                                        \"Boehm_JProteomeRes2014/Boehm_JProteomeRes2014.yaml\")\n",
    "model = amici.petab_import.import_petab_problem(petab_problem)\n",
    "solver = model.getSolver()\n",
    "\n",
    "importer = AmiciPetabImporter(petab_problem, model, solver)\n",
    "\n",
    "prior = importer.get_prior()\n",
    "model = importer.get_model()\n",
    "kernel = importer.get_kernel()\n",
    "\n",
    "model(petab_problem.x_nominal_scaled)"
   ]
  },
  {
   "cell_type": "code",
   "execution_count": null,
   "metadata": {},
   "outputs": [
    {
     "name": "stderr",
     "output_type": "stream",
     "text": [
      "INFO:History:Start <ABCSMC(id=1, start_time=2020-02-11 23:44:36.613481, end_time=None)>\n",
      "INFO:ABC:Calibration sample before t=0.\n",
      "INFO:ABC:t: 0, eps: 140584436.1011772.\n",
      "INFO:ABC:Acceptance rate: 100 / 352 = 2.8409e-01, ESS=1.0000e+02.\n",
      "INFO:ABC:t: 1, eps: 3464.3092630980364.\n",
      "INFO:ABC:Acceptance rate: 100 / 440 = 2.2727e-01, ESS=4.4864e+00.\n",
      "INFO:ABC:t: 2, eps: 144.49715188228242.\n"
     ]
    }
   ],
   "source": [
    "# this takes some time\n",
    "\n",
    "abc = pyabc.ABCSMC(model, prior, kernel, \n",
    "                   eps=pyabc.Temperature(),\n",
    "                   acceptor=pyabc.StochasticAcceptor())\n",
    "abc.new(pyabc.storage.create_sqlite_db_id(), {})\n",
    "abc.run()"
   ]
  },
  {
   "cell_type": "code",
   "execution_count": null,
   "metadata": {},
   "outputs": [],
   "source": []
  }
 ],
 "metadata": {
  "kernelspec": {
   "display_name": "Python 3",
   "language": "python",
   "name": "python3"
  },
  "language_info": {
   "codemirror_mode": {
    "name": "ipython",
    "version": 3
   },
   "file_extension": ".py",
   "mimetype": "text/x-python",
   "name": "python",
   "nbconvert_exporter": "python",
   "pygments_lexer": "ipython3",
   "version": "3.7.3"
  }
 },
 "nbformat": 4,
 "nbformat_minor": 2
}
