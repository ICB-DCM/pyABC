{
 "cells": [
  {
   "cell_type": "markdown",
   "metadata": {},
   "source": [
    "# PEtab import and yaml2sbml\n",
    "\n",
    "[PEtab](https://petab.readthedocs.io/en/stable/) is a format for specifying parameter estimation problems in systems biology. This notebook illustrates how the PEtab format can be used together with the ODE simulation toolbox [AMICI](https://amici.readthedocs.io/en/latest/) to define ODE based parameter estimation problems for pyABC. Then, in pyABC we can perform exact sampling based on the algorithms introduced in [this preprint](https://www.biorxiv.org/content/10.1101/2020.01.30.927004v1.abstract).\n",
    "\n",
    "To use this functionality, you need to have (at least) PEtab and AMICI installed. Further, this notebook uses [yaml2sbml](https://yaml2sbml.readthedocs.io/en/latest/). You can install all via:\n",
    "\n",
    "    pip install pyabc[petab,amici,yaml2sbml]\n",
    "\n",
    "AMICI may require some [external dependencies](https://github.com/ICB-DCM/AMICI/blob/master/INSTALL.md)."
   ]
  },
  {
   "cell_type": "code",
   "execution_count": null,
   "metadata": {},
   "outputs": [],
   "source": [
    "# install if not done yet\n",
    "!pip install pyabc[petab,amici,yaml2sbml] --quiet"
   ]
  },
  {
   "cell_type": "code",
   "execution_count": 1,
   "metadata": {},
   "outputs": [],
   "source": [
    "import os\n",
    "import sys\n",
    "\n",
    "import amici.petab_import\n",
    "import matplotlib.pyplot as plt\n",
    "import numpy as np\n",
    "\n",
    "import pyabc\n",
    "import pyabc.petab\n",
    "\n",
    "%matplotlib inline\n",
    "pyabc.settings.set_figure_params('pyabc')  # for beautified plots\n",
    "\n",
    "# folders\n",
    "dir_in = 'models/'\n",
    "dir_out = 'out/'\n",
    "os.makedirs(dir_out, exist_ok=True)"
   ]
  },
  {
   "cell_type": "markdown",
   "metadata": {},
   "source": [
    "## Generate PEtab problem from YAML\n",
    "\n",
    "In this section, we use the tool [yaml2sbml](https://yaml2sbml.readthedocs.io/) to generate a PEtab problem based on a simple human-editable YAML file stored under `dir_in`, combining it with \"measurement\" data as generated in a later section. `yaml2sbml` is a simple way of manually generating models. The PEtab import below works independent of it with any valid PEtab model. We use the common conversion reaction toy model, inferring one parameter and the noise standard variation."
   ]
  },
  {
   "cell_type": "code",
   "execution_count": 2,
   "metadata": {},
   "outputs": [
    {
     "name": "stdout",
     "output_type": "stream",
     "text": [
      "YAML file is valid ✅\n"
     ]
    }
   ],
   "source": [
    "import shutil\n",
    "\n",
    "import petab\n",
    "import yaml2sbml\n",
    "\n",
    "#  check yaml file\n",
    "model_name = 'cr'\n",
    "yaml_file = dir_in + model_name + '.yml'\n",
    "yaml2sbml.validate_yaml(yaml_file)"
   ]
  },
  {
   "cell_type": "markdown",
   "metadata": {},
   "source": [
    "The format allows to compactly define ODEs, parameters, observables and conditions:"
   ]
  },
  {
   "cell_type": "code",
   "execution_count": 3,
   "metadata": {},
   "outputs": [
    {
     "name": "stdout",
     "output_type": "stream",
     "text": [
      "odes:\n",
      "  - stateId: x1\n",
      "    rightHandSide: (- theta1 * x1 + theta2 * x2)\n",
      "    initialValue: 1\n",
      "\n",
      "  - stateId: x2\n",
      "    rightHandSide: (theta1 * x1 - theta2 * x2)\n",
      "    initialValue: 0\n",
      "\n",
      "parameters:\n",
      "  - parameterId: theta1\n",
      "    parameterName: $\\theta_1$\n",
      "    nominalValue: 0.08\n",
      "    parameterScale: lin\n",
      "    lowerBound: 0.05\n",
      "    upperBound: 0.12\n",
      "    estimate: 1\n",
      "\n",
      "  - parameterId: theta2\n",
      "    parameterName: $\\theta_2$\n",
      "    nominalValue: 0.12\n",
      "    parameterScale: lin\n",
      "    lowerBound: 0.05\n",
      "    upperBound: 0.2\n",
      "    estimate: 0\n",
      "\n",
      "  - parameterId: sigma\n",
      "    parameterName: $\\sigma$\n",
      "    nominalValue: 0.02\n",
      "    parameterScale: log10\n",
      "    lowerBound: 0.002\n",
      "    upperBound: 1\n",
      "    estimate: 1\n",
      "\n",
      "observables:\n",
      "  - observableId: obs_x2\n",
      "    observableFormula: x2\n",
      "    observableTransformation: lin\n",
      "    noiseFormula: noiseParameter1_obs_x2\n",
      "    noiseDistribution: normal\n",
      "\n",
      "conditions:\n",
      "  - conditionId: condition1\n",
      "\n"
     ]
    }
   ],
   "source": [
    "with open(yaml_file) as f:\n",
    "    print(f.read())"
   ]
  },
  {
   "cell_type": "markdown",
   "metadata": {},
   "source": [
    "We combine the YAML model with \"measurement\" data (which can be generated as in a later section) to create a PEtab problem. This generates a stand-alone PEtab folder under `dir_out`."
   ]
  },
  {
   "cell_type": "code",
   "execution_count": 4,
   "metadata": {},
   "outputs": [
    {
     "name": "stdout",
     "output_type": "stream",
     "text": [
      "\u001b[32mChecking SBML model...\n",
      "\u001b[0m\u001b[32mChecking measurement table...\n",
      "\u001b[0m\u001b[32mChecking condition table...\n",
      "\u001b[0m\u001b[32mChecking observable table...\n",
      "\u001b[0m\u001b[32mChecking parameter table...\n",
      "\u001b[0m\u001b[32mPEtab format check completed successfully.\n",
      "\u001b[0m\u001b[0m"
     ]
    }
   ],
   "source": [
    "# convert to petab\n",
    "petab_dir = dir_out + model_name + '_petab/'\n",
    "measurement_file = model_name + '_measurement_table.tsv'\n",
    "yaml2sbml.yaml2petab(\n",
    "    yaml_file,\n",
    "    output_dir=petab_dir,\n",
    "    sbml_name=model_name,\n",
    "    petab_yaml_name='cr_petab.yml',\n",
    "    measurement_table_name=measurement_file,\n",
    ")\n",
    "\n",
    "# copy measurement table over\n",
    "_ = shutil.copyfile(dir_in + measurement_file, petab_dir + measurement_file)\n",
    "\n",
    "petab_yaml_file = petab_dir + 'cr_petab.yml'\n",
    "# check petab files\n",
    "!petablint -v -y $petab_yaml_file"
   ]
  },
  {
   "cell_type": "markdown",
   "metadata": {},
   "source": [
    "## Import PEtab problem to AMICI and pyABC"
   ]
  },
  {
   "cell_type": "markdown",
   "metadata": {},
   "source": [
    "We read the PEtab problem, create an AMICI model and then import the full problem in pyABC:"
   ]
  },
  {
   "cell_type": "code",
   "execution_count": 5,
   "metadata": {},
   "outputs": [],
   "source": [
    "# read the petab problem from yaml\n",
    "petab_problem = petab.Problem.from_yaml(petab_yaml_file)\n",
    "\n",
    "# compile the petab problem to an AMICI ODE model\n",
    "amici_dir = dir_out + model_name + '_amici'\n",
    "if amici_dir not in sys.path:\n",
    "    sys.path.insert(0, os.path.abspath(amici_dir))\n",
    "model = amici.petab_import.import_petab_problem(\n",
    "    petab_problem,\n",
    "    model_output_dir=amici_dir,\n",
    "    verbose=False,\n",
    "    generate_sensitivity_code=False,\n",
    ")\n",
    "\n",
    "# the solver to numerically solve the ODE\n",
    "solver = model.getSolver()\n",
    "\n",
    "# import everything to pyABC\n",
    "importer = pyabc.petab.AmiciPetabImporter(petab_problem, model, solver)\n",
    "\n",
    "# extract what we need from the importer\n",
    "prior = importer.create_prior()\n",
    "model = importer.create_model()\n",
    "kernel = importer.create_kernel()"
   ]
  },
  {
   "cell_type": "markdown",
   "metadata": {},
   "source": [
    "Once everything has been compiled and imported, we can simply call the model. By default, this only returns the log likelihood value. If also simulated data are to be returned (and stored in the pyABC datastore), pass `return_simulations=True` to the importer. `return_rdatas` returns the full AMICI data objects including states, observables, and debugging information."
   ]
  },
  {
   "cell_type": "code",
   "execution_count": 6,
   "metadata": {},
   "outputs": [
    {
     "name": "stdout",
     "output_type": "stream",
     "text": [
      "{'llh': 22.37843729780134}\n"
     ]
    }
   ],
   "source": [
    "print(model(importer.get_nominal_parameters()))"
   ]
  },
  {
   "cell_type": "markdown",
   "metadata": {},
   "source": [
    "We can inspect the prior to see what parameters we infer:"
   ]
  },
  {
   "cell_type": "code",
   "execution_count": 7,
   "metadata": {},
   "outputs": [
    {
     "name": "stdout",
     "output_type": "stream",
     "text": [
      "<Distribution\n",
      "    theta1=<RV name=uniform, args=(), kwargs={'loc': 0.05, 'scale': 0.06999999999999999}>,\n",
      "    sigma=<RV name=uniform, args=(), kwargs={'loc': -2.6989700043360187, 'scale': 2.6989700043360187}>>\n"
     ]
    }
   ],
   "source": [
    "print(prior)"
   ]
  },
  {
   "cell_type": "markdown",
   "metadata": {},
   "source": [
    "## Run analysis with exact inference\n",
    "\n",
    "Now we can run an analysis using pyABC's exact sequential sampler under the assumption of measurement noise. For details on the method check the [noise assessment notebook](noise.ipynb). If instead standard distance-based ABC is to be used, the distance function must currently be manually defined from the model output. Here we use a population size of 100, usually a far large size would be preferable."
   ]
  },
  {
   "cell_type": "code",
   "execution_count": 8,
   "metadata": {},
   "outputs": [
    {
     "name": "stderr",
     "output_type": "stream",
     "text": [
      "ABC.Sampler INFO: Parallelize sampling on 4 processes.\n",
      "ABC.History INFO: Start <ABCSMC id=2, start_time=2021-12-07 14:17:45>\n",
      "ABC INFO: Calibration sample t = -1.\n",
      "ABC.Population INFO: Recording also rejected particles: True\n",
      "ABC.Population INFO: Recording also rejected particles: True\n",
      "ABC INFO: t: 0, eps: 1.54589326e+01.\n",
      "ABC INFO: Accepted: 100 / 375 = 2.6667e-01, ESS: 9.9990e+01.\n",
      "ABC INFO: t: 1, eps: 7.72946632e+00.\n",
      "ABC INFO: Accepted: 100 / 439 = 2.2779e-01, ESS: 6.1330e+01.\n",
      "ABC INFO: t: 2, eps: 3.86473316e+00.\n",
      "ABC INFO: Accepted: 100 / 617 = 1.6207e-01, ESS: 9.1263e+01.\n",
      "ABC INFO: t: 3, eps: 1.93236658e+00.\n",
      "ABC INFO: Accepted: 100 / 568 = 1.7606e-01, ESS: 8.1187e+01.\n",
      "ABC INFO: t: 4, eps: 1.00000000e+00.\n",
      "ABC INFO: Accepted: 100 / 479 = 2.0877e-01, ESS: 9.0495e+01.\n",
      "ABC INFO: Stop: Minimum epsilon.\n",
      "ABC.History INFO: Done <ABCSMC id=2, duration=0:01:20.515216, end_time=2021-12-07 14:19:06>\n"
     ]
    }
   ],
   "source": [
    "sampler = pyabc.MulticoreEvalParallelSampler()\n",
    "\n",
    "temperature = pyabc.Temperature()\n",
    "acceptor = pyabc.StochasticAcceptor()\n",
    "\n",
    "abc = pyabc.ABCSMC(\n",
    "    model,\n",
    "    prior,\n",
    "    kernel,\n",
    "    eps=temperature,\n",
    "    acceptor=acceptor,\n",
    "    sampler=sampler,\n",
    "    population_size=100,\n",
    ")\n",
    "# AMICI knows the data, thus we don't pass them here\n",
    "abc.new(pyabc.create_sqlite_db_id(), {})\n",
    "h = abc.run()"
   ]
  },
  {
   "cell_type": "markdown",
   "metadata": {},
   "source": [
    "That's it! Now we can visualize our results."
   ]
  },
  {
   "cell_type": "code",
   "execution_count": 9,
   "metadata": {},
   "outputs": [
    {
     "data": {
      "image/png": "[encoded data removed]",
      "text/plain": [
       "<Figure size 360x360 with 5 Axes>"
      ]
     },
     "metadata": {
      "needs_background": "light"
     },
     "output_type": "display_data"
    }
   ],
   "source": [
    "pyabc.visualization.plot_kde_matrix_highlevel(\n",
    "    h,\n",
    "    limits=importer.get_bounds(),\n",
    "    refval=importer.get_nominal_parameters(),\n",
    "    refval_color='grey',\n",
    "    names=importer.get_parameter_names(),\n",
    ");"
   ]
  },
  {
   "cell_type": "markdown",
   "metadata": {},
   "source": [
    "## Generate data\n",
    "\n",
    "This section needs only be run if one wants to generate new synthetic data:"
   ]
  },
  {
   "cell_type": "code",
   "execution_count": 10,
   "metadata": {},
   "outputs": [],
   "source": [
    "# Change this line to run the code\n",
    "if False:\n",
    "    import importlib\n",
    "    import sys\n",
    "\n",
    "    import amici\n",
    "    import amici.petab_import\n",
    "    import pandas as pd\n",
    "\n",
    "    # check yaml file\n",
    "    model_name = 'cr_base'\n",
    "    yaml_file = dir_in + model_name + '.yml'\n",
    "    yaml2sbml.validate_yaml(yaml_file)\n",
    "\n",
    "    # convert to sbml\n",
    "    sbml_file = dir_out + model_name + '.xml'\n",
    "    yaml2sbml.yaml2sbml(yaml_file, sbml_file)\n",
    "\n",
    "    # convert to amici\n",
    "    amici_dir = dir_out + model_name + '_amici/'\n",
    "    sbml_importer = amici.SbmlImporter(sbml_file)\n",
    "    sbml_importer.sbml2amici(model_name, amici_dir)\n",
    "\n",
    "    # import model\n",
    "    if amici_dir not in sys.path:\n",
    "        sys.path.insert(0, os.path.abspath(amici_dir))\n",
    "    model_module = importlib.import_module(model_name)\n",
    "    model = model_module.getModel()\n",
    "    solver = model.getSolver()\n",
    "\n",
    "    # measurement times\n",
    "    n_time = 10\n",
    "    meas_times = np.linspace(0, 10, n_time)\n",
    "    model.setTimepoints(meas_times)\n",
    "\n",
    "    # simulate with nominal parameters\n",
    "    rdata = amici.runAmiciSimulation(model, solver)\n",
    "\n",
    "    # create noisy data\n",
    "    np.random.seed(2)\n",
    "    sigma = 0.02\n",
    "    obs_x2 = rdata['x'][:, 1] + sigma * np.random.randn(n_time)\n",
    "    obs_x2\n",
    "\n",
    "    # to measurement dataframe\n",
    "    df = pd.DataFrame(\n",
    "        {\n",
    "            'observableId': 'obs_x2',\n",
    "            'simulationConditionId': 'condition1',\n",
    "            'measurement': obs_x2,\n",
    "            'time': meas_times,\n",
    "            'noiseParameters': 'sigma',\n",
    "        }\n",
    "    )\n",
    "\n",
    "    # store data\n",
    "    df.to_csv(\n",
    "        dir_in + model_name[:-5] + '_measurement_table.tsv',\n",
    "        sep='\\t',\n",
    "        index=False,\n",
    "    )"
   ]
  }
 ],
 "metadata": {
  "kernelspec": {
   "display_name": "Python 3 (ipykernel)",
   "language": "python",
   "name": "python3"
  },
  "language_info": {
   "codemirror_mode": {
    "name": "ipython",
    "version": 3
   },
   "file_extension": ".py",
   "mimetype": "text/x-python",
   "name": "python",
   "nbconvert_exporter": "python",
   "pygments_lexer": "ipython3",
   "version": "3.9.7"
  }
 },
 "nbformat": 4,
 "nbformat_minor": 4
}
