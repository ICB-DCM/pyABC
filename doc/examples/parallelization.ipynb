{
 "cells": [
  {
   "cell_type": "markdown",
   "metadata": {},
   "source": [
    "# Parallelization strategies\n",
    "\n",
    "pyABC supports various parallelization engines, for multi-core and distributed systems. This is described in detail in the [documentation](https://pyabc.readthedocs.io/en/latest/sampler.html), see there for details. In this notebook, we perform a little comparison of the various algorithmic parallelization strategies, using the redis-based samplers.\n",
    "\n",
    "We consider a simple toy model:"
   ]
  },
  {
   "cell_type": "code",
   "execution_count": 1,
   "metadata": {},
   "outputs": [],
   "source": [
    "import numpy as np\n",
    "import scipy as sp\n",
    "import pandas as pd\n",
    "import matplotlib.pyplot as plt\n",
    "import time\n",
    "import logging\n",
    "import tempfile\n",
    "import pyabc\n",
    "\n",
    "%matplotlib inline\n",
    "pyabc.settings.set_figure_params('pyabc')  # for beautified plots\n",
    "\n",
    "\n",
    "# unset worker info logging\n",
    "logging.getLogger(\"Redis-Worker\").setLevel(logging.WARNING)\n",
    "\n",
    "# initialize global random state\n",
    "np.random.seed(0)\n",
    "\n",
    "def model(p):\n",
    "    time.sleep(np.random.lognormal(mean=-7, sigma=2))\n",
    "    return {\"data\": p[\"$\\theta_0$\"] + 0.5 * np.random.randn()}\n",
    "\n",
    "# observed data\n",
    "p_true = {\"$\\theta_0$\": 2.5}\n",
    "measured_data = model(p_true)\n",
    "\n",
    "# prior\n",
    "prior = pyabc.Distribution(\n",
    "    {\"$\\theta_0$\": pyabc.RV(\"uniform\", 0, 5)})\n",
    "p_lims = {\"$\\theta_0$\": (0, 5)}\n",
    "\n",
    "def distance(x, y):\n",
    "    return abs(x[\"data\"] - y[\"data\"])\n",
    "\n",
    "pop_size = 100\n",
    "list_eps = pyabc.ListEpsilon([2, 0.5, 0.125, 0.0325])"
   ]
  },
  {
   "cell_type": "markdown",
   "metadata": {},
   "source": [
    "## Static Scheduling (STAT)"
   ]
  },
  {
   "cell_type": "markdown",
   "metadata": {},
   "source": [
    "sampler = pyabc.RedisStaticSamplerServerStarter(workers=4)\n",
    "abc = pyabc.ABCSMC(model, prior, distance, eps=list_eps,\n",
    "                   population_size=pop_size, sampler=sampler)\n",
    "abc.new(pyabc.create_sqlite_db_id(), measured_data)\n",
    "h_stat = abc.run(max_nr_populations=len(list_eps))"
   ]
  },
  {
   "cell_type": "markdown",
   "metadata": {},
   "source": [
    "## Dynamic Scheduling (DYN)"
   ]
  },
  {
   "cell_type": "markdown",
   "metadata": {},
   "source": [
    "sampler = pyabc.RedisEvalParallelSamplerServerStarter(workers=4)\n",
    "\n",
    "abc = pyabc.ABCSMC(model, prior, distance, eps=list_eps,\n",
    "                   population_size=pop_size, sampler=sampler)\n",
    "abc.new(pyabc.create_sqlite_db_id(), measured_data)\n",
    "h_dyn = abc.run(max_nr_populations=len(list_eps))"
   ]
  },
  {
   "cell_type": "markdown",
   "metadata": {},
   "source": [
    "## Look-Ahead Dynamic Scheduling (LA)"
   ]
  },
  {
   "cell_type": "code",
   "execution_count": 2,
   "metadata": {},
   "outputs": [
    {
     "name": "stderr",
     "output_type": "stream",
     "text": [
      "INFO:History:Start <ABCSMC(id=1, start_time=2021-02-03 13:14:33.619630)>\n",
      "INFO:ABC:t: 0, eps: 2.\n",
      "INFO:ABC:Acceptance rate: 100 / 132 = 7.5758e-01, ESS=1.0000e+02.\n",
      "INFO:ABC:t: 1, eps: 0.5.\n",
      "INFO:ABC:Acceptance rate: 100 / 395 = 2.5316e-01, ESS=9.9898e+01.\n",
      "INFO:ABC:t: 2, eps: 0.125.\n",
      "INFO:ABC:Acceptance rate: 100 / 777 = 1.2870e-01, ESS=8.7766e+01.\n",
      "INFO:ABC:t: 3, eps: 0.0325.\n",
      "INFO:pyabc.util:Stopping: maximum number of generations.\n",
      "INFO:ABC:Acceptance rate: 100 / 3274 = 3.0544e-02, ESS=4.4185e+01.\n",
      "INFO:pyabc.util:Stopping: maximum number of generations.\n",
      "INFO:History:Done <ABCSMC(id=1, duration=0:00:11.902711, end_time=2021-02-03 13:14:45.522341>\n"
     ]
    }
   ],
   "source": [
    "sampler_file = tempfile.mkstemp(suffix=\".csv\")[1]\n",
    "\n",
    "sampler = pyabc.RedisEvalParallelSamplerServerStarter(\n",
    "    workers=4, look_ahead=True, look_ahead_delay_evaluation=False,\n",
    "    log_file=sampler_file)\n",
    "\n",
    "abc = pyabc.ABCSMC(model, prior, distance, eps=list_eps,\n",
    "                   population_size=pop_size, sampler=sampler)\n",
    "abc.new(pyabc.create_sqlite_db_id(), measured_data)\n",
    "h_la = abc.run(max_nr_populations=len(list_eps))"
   ]
  },
  {
   "cell_type": "code",
   "execution_count": 3,
   "metadata": {},
   "outputs": [
    {
     "data": {
      "text/plain": [
       "[<matplotlib.lines.Line2D at 0x7fa2d989f880>]"
      ]
     },
     "execution_count": 3,
     "metadata": {},
     "output_type": "execute_result"
    },
    {
     "data": {
      "image/png": "[encoded data removed]",
      "text/plain": [
       "<Figure size 432x288 with 1 Axes>"
      ]
     },
     "metadata": {
      "needs_background": "light"
     },
     "output_type": "display_data"
    }
   ],
   "source": [
    "sampler_df = pd.read_csv(sampler_file)\n",
    "_, ax = plt.subplots()\n",
    "ax.plot(sampler_df['t'],\n",
    "        np.minimum(pop_size, sampler_df['n_lookahead_accepted']) / pop_size,\n",
    "       'x-')"
   ]
  },
  {
   "cell_type": "code",
   "execution_count": 4,
   "metadata": {},
   "outputs": [
    {
     "data": {
      "text/html": [
       "<div>\n",
       "<style scoped>\n",
       "    .dataframe tbody tr th:only-of-type {\n",
       "        vertical-align: middle;\n",
       "    }\n",
       "\n",
       "    .dataframe tbody tr th {\n",
       "        vertical-align: top;\n",
       "    }\n",
       "\n",
       "    .dataframe thead th {\n",
       "        text-align: right;\n",
       "    }\n",
       "</style>\n",
       "<table border=\"1\" class=\"dataframe\">\n",
       "  <thead>\n",
       "    <tr style=\"text-align: right;\">\n",
       "      <th></th>\n",
       "      <th>Unnamed: 0</th>\n",
       "      <th>t</th>\n",
       "      <th>n_evaluated</th>\n",
       "      <th>n_accepted</th>\n",
       "      <th>n_lookahead</th>\n",
       "      <th>n_lookahead_accepted</th>\n",
       "      <th>n_preliminary</th>\n",
       "    </tr>\n",
       "  </thead>\n",
       "  <tbody>\n",
       "    <tr>\n",
       "      <th>0</th>\n",
       "      <td>0</td>\n",
       "      <td>0</td>\n",
       "      <td>132</td>\n",
       "      <td>101</td>\n",
       "      <td>0</td>\n",
       "      <td>0</td>\n",
       "      <td>0</td>\n",
       "    </tr>\n",
       "    <tr>\n",
       "      <th>1</th>\n",
       "      <td>1</td>\n",
       "      <td>1</td>\n",
       "      <td>395</td>\n",
       "      <td>103</td>\n",
       "      <td>158</td>\n",
       "      <td>39</td>\n",
       "      <td>0</td>\n",
       "    </tr>\n",
       "    <tr>\n",
       "      <th>2</th>\n",
       "      <td>2</td>\n",
       "      <td>2</td>\n",
       "      <td>777</td>\n",
       "      <td>101</td>\n",
       "      <td>88</td>\n",
       "      <td>13</td>\n",
       "      <td>0</td>\n",
       "    </tr>\n",
       "    <tr>\n",
       "      <th>3</th>\n",
       "      <td>3</td>\n",
       "      <td>3</td>\n",
       "      <td>3274</td>\n",
       "      <td>100</td>\n",
       "      <td>176</td>\n",
       "      <td>4</td>\n",
       "      <td>0</td>\n",
       "    </tr>\n",
       "  </tbody>\n",
       "</table>\n",
       "</div>"
      ],
      "text/plain": [
       "   Unnamed: 0  t  n_evaluated  n_accepted  n_lookahead  n_lookahead_accepted  \\\n",
       "0           0  0          132         101            0                     0   \n",
       "1           1  1          395         103          158                    39   \n",
       "2           2  2          777         101           88                    13   \n",
       "3           3  3         3274         100          176                     4   \n",
       "\n",
       "   n_preliminary  \n",
       "0              0  \n",
       "1              0  \n",
       "2              0  \n",
       "3              0  "
      ]
     },
     "execution_count": 4,
     "metadata": {},
     "output_type": "execute_result"
    }
   ],
   "source": [
    "sampler_df"
   ]
  },
  {
   "cell_type": "code",
   "execution_count": 5,
   "metadata": {},
   "outputs": [
    {
     "data": {
      "text/plain": [
       "<AxesSubplot:title={'center':'Acceptance rates'}, xlabel='Population index', ylabel='Acceptance rate'>"
      ]
     },
     "execution_count": 5,
     "metadata": {},
     "output_type": "execute_result"
    },
    {
     "data": {
      "image/png": "[encoded data removed]",
      "text/plain": [
       "<Figure size 432x288 with 1 Axes>"
      ]
     },
     "metadata": {
      "needs_background": "light"
     },
     "output_type": "display_data"
    },
    {
     "data": {
      "image/png": "[encoded data removed]",
      "text/plain": [
       "<Figure size 432x288 with 1 Axes>"
      ]
     },
     "metadata": {
      "needs_background": "light"
     },
     "output_type": "display_data"
    },
    {
     "data": {
      "image/png": "[encoded data removed]",
      "text/plain": [
       "<Figure size 432x288 with 1 Axes>"
      ]
     },
     "metadata": {
      "needs_background": "light"
     },
     "output_type": "display_data"
    }
   ],
   "source": [
    "pyabc.visualization.plot_lookahead_evaluations(sampler_df, fill=True)\n",
    "pyabc.visualization.plot_lookahead_final_acceptances(sampler_df, h_la, fill=True)\n",
    "pyabc.visualization.plot_lookahead_all_acceptances(sampler_df)"
   ]
  },
  {
   "cell_type": "markdown",
   "metadata": {},
   "source": [
    "## Comparison"
   ]
  },
  {
   "cell_type": "markdown",
   "metadata": {},
   "source": [
    "### Posterior approximation\n",
    "\n",
    "This should be pretty much the same across all samplers, otherwise a sampler is doing something wrong."
   ]
  },
  {
   "cell_type": "code",
   "execution_count": 6,
   "metadata": {},
   "outputs": [
    {
     "ename": "NameError",
     "evalue": "name 'h_stat' is not defined",
     "output_type": "error",
     "traceback": [
      "\u001b[0;31m---------------------------------------------------------------------------\u001b[0m",
      "\u001b[0;31mNameError\u001b[0m                                 Traceback (most recent call last)",
      "\u001b[0;32m<ipython-input-6-44d0b409d43e>\u001b[0m in \u001b[0;36m<module>\u001b[0;34m\u001b[0m\n\u001b[0;32m----> 1\u001b[0;31m \u001b[0mhs\u001b[0m \u001b[0;34m=\u001b[0m \u001b[0;34m[\u001b[0m\u001b[0mh_stat\u001b[0m\u001b[0;34m,\u001b[0m \u001b[0mh_dyn\u001b[0m\u001b[0;34m,\u001b[0m \u001b[0mh_la\u001b[0m\u001b[0;34m]\u001b[0m\u001b[0;34m\u001b[0m\u001b[0;34m\u001b[0m\u001b[0m\n\u001b[0m\u001b[1;32m      2\u001b[0m \u001b[0mh_labels\u001b[0m \u001b[0;34m=\u001b[0m \u001b[0;34m[\u001b[0m\u001b[0;34m\"STAT\"\u001b[0m\u001b[0;34m,\u001b[0m \u001b[0;34m\"DYN\"\u001b[0m\u001b[0;34m,\u001b[0m \u001b[0;34m\"LA\"\u001b[0m\u001b[0;34m]\u001b[0m\u001b[0;34m\u001b[0m\u001b[0;34m\u001b[0m\u001b[0m\n\u001b[1;32m      3\u001b[0m \u001b[0;34m\u001b[0m\u001b[0m\n\u001b[1;32m      4\u001b[0m \u001b[0mfig\u001b[0m\u001b[0;34m,\u001b[0m \u001b[0max\u001b[0m \u001b[0;34m=\u001b[0m \u001b[0mplt\u001b[0m\u001b[0;34m.\u001b[0m\u001b[0msubplots\u001b[0m\u001b[0;34m(\u001b[0m\u001b[0;34m)\u001b[0m\u001b[0;34m\u001b[0m\u001b[0;34m\u001b[0m\u001b[0m\n\u001b[1;32m      5\u001b[0m \u001b[0mx\u001b[0m \u001b[0;34m=\u001b[0m \u001b[0;34m\"$\\theta_0$\"\u001b[0m\u001b[0;34m\u001b[0m\u001b[0;34m\u001b[0m\u001b[0m\n",
      "\u001b[0;31mNameError\u001b[0m: name 'h_stat' is not defined"
     ]
    }
   ],
   "source": [
    "hs = [h_stat, h_dyn, h_la]\n",
    "h_labels = [\"STAT\", \"DYN\", \"LA\"]\n",
    "\n",
    "fig, ax = plt.subplots()\n",
    "x = \"$\\theta_0$\"\n",
    "for h, label in zip(hs, h_labels):\n",
    "    pyabc.visualization.plot_kde_1d_highlevel(\n",
    "        h, x=x, xmin=p_lims[x][0], xmax=p_lims[x][1], label=label, ax=ax)\n",
    "ax.legend()"
   ]
  },
  {
   "cell_type": "markdown",
   "metadata": {},
   "source": [
    "### Diagnostics\n",
    "\n",
    "Number of samples:"
   ]
  },
  {
   "cell_type": "code",
   "execution_count": null,
   "metadata": {},
   "outputs": [],
   "source": [
    "pyabc.visualization.plot_sample_numbers(hs, h_labels)"
   ]
  },
  {
   "cell_type": "markdown",
   "metadata": {},
   "source": [
    "Total wall times:"
   ]
  },
  {
   "cell_type": "code",
   "execution_count": null,
   "metadata": {},
   "outputs": [],
   "source": [
    "h_dyn.get_all_populations()"
   ]
  },
  {
   "cell_type": "code",
   "execution_count": null,
   "metadata": {},
   "outputs": [],
   "source": [
    "pyabc.visualization.plot_total_walltime(hs)"
   ]
  },
  {
   "cell_type": "code",
   "execution_count": null,
   "metadata": {},
   "outputs": [],
   "source": [
    "pops = h_dyn.get_all_populations()\n",
    "pops"
   ]
  }
 ],
 "metadata": {
  "kernelspec": {
   "display_name": "Python 3",
   "language": "python",
   "name": "python3"
  },
  "language_info": {
   "codemirror_mode": {
    "name": "ipython",
    "version": 3
   },
   "file_extension": ".py",
   "mimetype": "text/x-python",
   "name": "python",
   "nbconvert_exporter": "python",
   "pygments_lexer": "ipython3",
   "version": "3.8.5"
  }
 },
 "nbformat": 4,
 "nbformat_minor": 4
}
