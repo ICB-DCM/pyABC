{
 "cells": [
  {
   "cell_type": "markdown",
   "metadata": {},
   "source": [
    "Quickstart\n",
    "======"
   ]
  },
  {
   "cell_type": "markdown",
   "metadata": {},
   "source": [
    "Here is a small example on how to do Bayesian model selection."
   ]
  },
  {
   "cell_type": "raw",
   "metadata": {
    "raw_mimetype": "text/restructuredtext"
   },
   "source": [
    "There are more examples in the `examples section <../examples.rst>`_ of the documentation, such as a `parameter inference example <parameter_inference.ipynb>`_ with a single model only.\n",
    "\n",
    "The notebook can be downloaded here:\n",
    ":download:`Quickstart <quickstart.ipynb>`.\n",
    "\n",
    "\n",
    "The following classes from the pyABC package are used\n",
    "for this example:\n",
    "\n",
    "* :class:`ABCSMC <pyabc.smc.ABCSMC>`\n",
    "* :class:`RV <pyabc.random_variables.RV>`\n",
    "* :class:`Distribution <pyabc.random_variables.Distribution>`\n",
    "* :class:`PercentileDistanceFunction <pyabc.distance_functions.PercentileDistanceFunction>`"
   ]
  },
  {
   "cell_type": "markdown",
   "metadata": {},
   "source": [
    "Step by step explanation\n",
    "----------------------------\n",
    "\n",
    "### Defining a model\n",
    "\n",
    "\n",
    "To do model selection, we first need some models. A model, in the simplest case,\n",
    "is just a callable which takes a single `dict` as input and returns a single `dict` as output. The keys of the input dictionary are the parameters of the model, the output\n",
    "keys denote the summary statistics.\n",
    "Here, the `dict` is passed as `parameters` and has the entry `x`, which denotes the mean of a Gaussian.\n",
    "It returns the observed summary statistics `y`, which is just the sampled value."
   ]
  },
  {
   "cell_type": "code",
   "execution_count": 1,
   "metadata": {},
   "outputs": [],
   "source": [
    "%matplotlib inline\n",
    "import os\n",
    "import tempfile\n",
    "\n",
    "import scipy.stats as st\n",
    "\n",
    "import pyabc\n",
    "\n",
    "\n",
    "# Define a gaussian model\n",
    "\n",
    "sigma = .5\n",
    "\n",
    "\n",
    "def model(parameters):\n",
    "    # sample from a gaussian\n",
    "    y = st.norm(parameters.x, sigma).rvs()\n",
    "    # return the sample as dictionary\n",
    "    return {\"y\": y}"
   ]
  },
  {
   "cell_type": "markdown",
   "metadata": {},
   "source": [
    "For model selection we usually have more than one model.\n",
    "These are assembled in a list. We\n",
    "require a Bayesian prior over the models.\n",
    "The default is to have a uniform prior over the model classes.\n",
    "This concludes the model definition."
   ]
  },
  {
   "cell_type": "code",
   "execution_count": 2,
   "metadata": {},
   "outputs": [],
   "source": [
    "# We define two models, but they are identical so far\n",
    "models = [model, model]\n",
    "\n",
    "\n",
    "# However, our models' priors are not the same.\n",
    "# Their mean differs.\n",
    "mu_x_1, mu_x_2 = 0, 1\n",
    "parameter_priors = [\n",
    "    pyabc.Distribution(x=pyabc.RV(\"norm\", mu_x_1, sigma)),\n",
    "    pyabc.Distribution(x=pyabc.RV(\"norm\", mu_x_2, sigma))\n",
    "]"
   ]
  },
  {
   "cell_type": "markdown",
   "metadata": {},
   "source": [
    "### Configuring the ABCSMC run\n",
    "\n",
    "Having the models defined, we can plug together the `ABCSMC` class.\n",
    "We need a distance function,\n",
    "to measure the distance of obtained samples."
   ]
  },
  {
   "cell_type": "code",
   "execution_count": 3,
   "metadata": {},
   "outputs": [],
   "source": [
    "# We plug all the ABC options together\n",
    "abc = pyabc.ABCSMC(\n",
    "    models, parameter_priors,\n",
    "    pyabc.PercentileDistance(measures_to_use=[\"y\"]))"
   ]
  },
  {
   "cell_type": "markdown",
   "metadata": {},
   "source": [
    "### Setting the observed data\n",
    "\n",
    "Actually measured data can now be passed to the ABCSMC.\n",
    "This is set via the `new` method, indicating that we start\n",
    "a new run as opposed to resuming a stored run (see the \"resume stored run\" example).\n",
    "Moreover, we have to set the output database where the ABC-SMC run\n",
    "is logged."
   ]
  },
  {
   "cell_type": "code",
   "execution_count": 4,
   "metadata": {},
   "outputs": [
    {
     "name": "stderr",
     "output_type": "stream",
     "text": [
      "INFO:History:Start <ABCSMC(id=1, start_time=2019-04-01 23:16:46.185404, end_time=None)>\n",
      "INFO:Epsilon:initial epsilon is 0.4773527724895183\n"
     ]
    }
   ],
   "source": [
    "# y_observed is the important piece here: our actual observation.\n",
    "y_observed = 1\n",
    "# and we define where to store the results\n",
    "db_path = (\"sqlite:///\" +\n",
    "           os.path.join(tempfile.gettempdir(), \"test.db\"))\n",
    "abc_id = abc.new(db_path, {\"y\": y_observed})"
   ]
  },
  {
   "cell_type": "markdown",
   "metadata": {},
   "source": [
    "The `new` method returns an id, which is the id of the\n",
    "ABC-SMC run in the database.\n",
    "We're not usint this id for now.\n",
    "But it might be important when you load the stored data or want\n",
    "to continue an ABC-SMC run in the case of having more than one\n",
    "ABC-SMC run stored in a single database."
   ]
  },
  {
   "cell_type": "code",
   "execution_count": 5,
   "metadata": {},
   "outputs": [
    {
     "name": "stdout",
     "output_type": "stream",
     "text": [
      "ABC-SMC run ID: 1\n"
     ]
    }
   ],
   "source": [
    "print(\"ABC-SMC run ID:\", abc_id)"
   ]
  },
  {
   "cell_type": "markdown",
   "metadata": {},
   "source": [
    "### Running the ABC\n",
    "\n",
    "We run the `ABCSMC` specifying the epsilon value at which to terminate.\n",
    "The default epsilon strategy is the `pyabc.epsilon.MedianEpsilon`.\n",
    "Whatever is reached first, the epsilon or the maximum number allowed populations,\n",
    "terminates the ABC run. The method returns a `pyabc.storage.History` object, which\n",
    "can, for example, be queried for the posterior probabilities."
   ]
  },
  {
   "cell_type": "code",
   "execution_count": 6,
   "metadata": {},
   "outputs": [
    {
     "name": "stderr",
     "output_type": "stream",
     "text": [
      "INFO:Epsilon:initial epsilon is 0.4773527724895183\n",
      "INFO:ABC:t:0 eps:0.4773527724895183\n",
      "INFO:ABC:t:1 eps:0.25383950694498675\n",
      "INFO:ABC:t:2 eps:0.10725021079173162\n",
      "INFO:History:Done <ABCSMC(id=1, start_time=2019-04-01 23:16:46.185404, end_time=2019-04-01 23:17:04.305442)>\n"
     ]
    }
   ],
   "source": [
    "# We run the ABC until either criterion is met\n",
    "history = abc.run(minimum_epsilon=0.2, max_nr_populations=5)"
   ]
  },
  {
   "cell_type": "markdown",
   "metadata": {},
   "source": [
    "Note that the history object is also always accessible from the abcsmc object:"
   ]
  },
  {
   "cell_type": "code",
   "execution_count": 7,
   "metadata": {},
   "outputs": [
    {
     "data": {
      "text/plain": [
       "True"
      ]
     },
     "execution_count": 7,
     "metadata": {},
     "output_type": "execute_result"
    }
   ],
   "source": [
    "history is abc.history"
   ]
  },
  {
   "cell_type": "markdown",
   "metadata": {},
   "source": [
    "The `pyabc.storage.History>` object can, for example,\n",
    "be queried for the posterior probabilities in the populations:"
   ]
  },
  {
   "cell_type": "code",
   "execution_count": 8,
   "metadata": {},
   "outputs": [
    {
     "data": {
      "text/html": [
       "<div>\n",
       "<style scoped>\n",
       "    .dataframe tbody tr th:only-of-type {\n",
       "        vertical-align: middle;\n",
       "    }\n",
       "\n",
       "    .dataframe tbody tr th {\n",
       "        vertical-align: top;\n",
       "    }\n",
       "\n",
       "    .dataframe thead th {\n",
       "        text-align: right;\n",
       "    }\n",
       "</style>\n",
       "<table border=\"1\" class=\"dataframe\">\n",
       "  <thead>\n",
       "    <tr style=\"text-align: right;\">\n",
       "      <th>m</th>\n",
       "      <th>0</th>\n",
       "      <th>1</th>\n",
       "    </tr>\n",
       "    <tr>\n",
       "      <th>t</th>\n",
       "      <th></th>\n",
       "      <th></th>\n",
       "    </tr>\n",
       "  </thead>\n",
       "  <tbody>\n",
       "    <tr>\n",
       "      <th>0</th>\n",
       "      <td>0.310000</td>\n",
       "      <td>0.690000</td>\n",
       "    </tr>\n",
       "    <tr>\n",
       "      <th>1</th>\n",
       "      <td>0.229627</td>\n",
       "      <td>0.770373</td>\n",
       "    </tr>\n",
       "    <tr>\n",
       "      <th>2</th>\n",
       "      <td>0.255642</td>\n",
       "      <td>0.744358</td>\n",
       "    </tr>\n",
       "  </tbody>\n",
       "</table>\n",
       "</div>"
      ],
      "text/plain": [
       "m         0         1\n",
       "t                    \n",
       "0  0.310000  0.690000\n",
       "1  0.229627  0.770373\n",
       "2  0.255642  0.744358"
      ]
     },
     "execution_count": 8,
     "metadata": {},
     "output_type": "execute_result"
    }
   ],
   "source": [
    "# Evaluate the model probabililties\n",
    "model_probabilities = history.get_model_probabilities()\n",
    "model_probabilities"
   ]
  },
  {
   "cell_type": "markdown",
   "metadata": {},
   "source": [
    "And now, let's visualize the results:"
   ]
  },
  {
   "cell_type": "code",
   "execution_count": 9,
   "metadata": {},
   "outputs": [
    {
     "data": {
      "text/plain": [
       "<matplotlib.axes._subplots.AxesSubplot at 0x7f502fe17ba8>"
      ]
     },
     "execution_count": 9,
     "metadata": {},
     "output_type": "execute_result"
    },
    {
     "data": {
      "image/png": "[encoded data removed]",
      "text/plain": [
       "<Figure size 432x288 with 1 Axes>"
      ]
     },
     "metadata": {
      "needs_background": "light"
     },
     "output_type": "display_data"
    }
   ],
   "source": [
    "pyabc.visualization.plot_model_probabilities(history)"
   ]
  },
  {
   "cell_type": "markdown",
   "metadata": {},
   "source": [
    "So model 1 is the more probable one. Which is expected as it was centered at 1 and the observed data was also 1, whereas model 0 was centered at 0, which is farther away from the observed data. "
   ]
  }
 ],
 "metadata": {
  "celltoolbar": "Raw Cell Format",
  "kernelspec": {
   "display_name": "Python 3",
   "language": "python",
   "name": "python3"
  },
  "language_info": {
   "codemirror_mode": {
    "name": "ipython",
    "version": 3
   },
   "file_extension": ".py",
   "mimetype": "text/x-python",
   "name": "python",
   "nbconvert_exporter": "python",
   "pygments_lexer": "ipython3",
   "version": "3.6.7"
  }
 },
 "nbformat": 4,
 "nbformat_minor": 1
}
