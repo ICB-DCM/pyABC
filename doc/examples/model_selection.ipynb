{
 "cells": [
  {
   "cell_type": "markdown",
   "metadata": {},
   "source": [
    "# Model selection"
   ]
  },
  {
   "cell_type": "markdown",
   "metadata": {},
   "source": [
    "Here is a small example on how to do Bayesian model selection."
   ]
  },
  {
   "cell_type": "raw",
   "metadata": {
    "raw_mimetype": "text/restructuredtext"
   },
   "source": [
    "There are more examples in the `examples section <../examples.rst>`_ of the documentation, such as a `parameter inference example <parameter_inference.ipynb>`_ with a single model only.\n",
    "\n",
    "The notebook can be downloaded here:\n",
    ":download:`Model selection <model_selection.ipynb>`.\n",
    "\n",
    "\n",
    "The following classes from the pyABC package are used\n",
    "for this example:\n",
    "\n",
    "* :class:`ABCSMC <pyabc.inference.ABCSMC>`\n",
    "* :class:`RV <pyabc.random_variables.RV>`\n",
    "* :class:`Distribution <pyabc.random_variables.Distribution>`\n",
    "* :class:`PercentileDistance <pyabc.distance.PercentileDistance>`"
   ]
  },
  {
   "cell_type": "markdown",
   "metadata": {},
   "source": [
    "## Step by step explanation\n",
    "\n",
    "### Defining a model\n",
    "\n",
    "To do model selection, we first need some models. A model, in the simplest case,\n",
    "is just a callable which takes a single `dict` as input and returns a single `dict` as output. The keys of the input dictionary are the parameters of the model, the output\n",
    "keys denote the summary statistics.\n",
    "Here, the `dict` is passed as `parameters` and has the entry `x`, which denotes the mean of a Gaussian.\n",
    "It returns the observed summary statistics `y`, which is just the sampled value."
   ]
  },
  {
   "cell_type": "code",
   "execution_count": 10,
   "metadata": {},
   "outputs": [],
   "source": [
    "%matplotlib inline\n",
    "import os\n",
    "import tempfile\n",
    "import scipy.stats as st\n",
    "\n",
    "import pyabc\n",
    "pyabc.settings.set_figure_params('pyabc')  # for beautified plots\n",
    "\n",
    "# Define a gaussian model\n",
    "\n",
    "sigma = .5\n",
    "\n",
    "def model(parameters):\n",
    "    # sample from a gaussian\n",
    "    y = st.norm(parameters.x, sigma).rvs()\n",
    "    # return the sample as dictionary\n",
    "    return {\"y\": y}"
   ]
  },
  {
   "cell_type": "markdown",
   "metadata": {},
   "source": [
    "For model selection we usually have more than one model.\n",
    "These are assembled in a list. We\n",
    "require a Bayesian prior over the models.\n",
    "The default is to have a uniform prior over the model classes.\n",
    "This concludes the model definition."
   ]
  },
  {
   "cell_type": "code",
   "execution_count": 11,
   "metadata": {},
   "outputs": [],
   "source": [
    "# We define two models, but they are identical so far\n",
    "models = [model, model]\n",
    "\n",
    "# However, our models' priors are not the same.\n",
    "# Their mean differs.\n",
    "mu_x_1, mu_x_2 = 0, 1\n",
    "parameter_priors = [\n",
    "    pyabc.Distribution(x=pyabc.RV(\"norm\", mu_x_1, sigma)),\n",
    "    pyabc.Distribution(x=pyabc.RV(\"norm\", mu_x_2, sigma))\n",
    "]"
   ]
  },
  {
   "cell_type": "markdown",
   "metadata": {},
   "source": [
    "### Configuring the ABCSMC run\n",
    "\n",
    "Having the models defined, we can plug together the `ABCSMC` class.\n",
    "We need a distance function,\n",
    "to measure the distance of obtained samples."
   ]
  },
  {
   "cell_type": "code",
   "execution_count": 12,
   "metadata": {},
   "outputs": [
    {
     "name": "stderr",
     "output_type": "stream",
     "text": [
      "INFO:Sampler:Parallelizing the sampling on 4 cores.\n"
     ]
    }
   ],
   "source": [
    "# We plug all the ABC options together\n",
    "abc = pyabc.ABCSMC(\n",
    "    models, parameter_priors,\n",
    "    pyabc.PercentileDistance(measures_to_use=[\"y\"]))"
   ]
  },
  {
   "cell_type": "markdown",
   "metadata": {},
   "source": [
    "### Setting the observed data\n",
    "\n",
    "Actually measured data can now be passed to the ABCSMC.\n",
    "This is set via the `new` method, indicating that we start\n",
    "a new run as opposed to resuming a stored run (see the \"resume stored run\" example).\n",
    "Moreover, we have to set the output database where the ABC-SMC run\n",
    "is logged."
   ]
  },
  {
   "cell_type": "code",
   "execution_count": 13,
   "metadata": {},
   "outputs": [
    {
     "name": "stderr",
     "output_type": "stream",
     "text": [
      "INFO:History:Start <ABCSMC id=11, start_time=2021-02-23 23:29:58.154520>\n"
     ]
    }
   ],
   "source": [
    "# y_observed is the important piece here: our actual observation.\n",
    "y_observed = 1\n",
    "# and we define where to store the results\n",
    "db_path = (\"sqlite:///\" +\n",
    "           os.path.join(tempfile.gettempdir(), \"test.db\"))\n",
    "history = abc.new(db_path, {\"y\": y_observed})"
   ]
  },
  {
   "cell_type": "markdown",
   "metadata": {},
   "source": [
    "The `new` method returns a history object, whose id identifies the ABC-SMC run in the database.\n",
    "We're not using this id for now.\n",
    "But it might be important when you load the stored data or want\n",
    "to continue an ABC-SMC run in the case of having more than one\n",
    "ABC-SMC run stored in a single database."
   ]
  },
  {
   "cell_type": "code",
   "execution_count": 14,
   "metadata": {},
   "outputs": [
    {
     "name": "stdout",
     "output_type": "stream",
     "text": [
      "ABC-SMC run ID: 11\n"
     ]
    }
   ],
   "source": [
    "print(\"ABC-SMC run ID:\", history.id)"
   ]
  },
  {
   "cell_type": "markdown",
   "metadata": {},
   "source": [
    "### Running the ABC\n",
    "\n",
    "We run the `ABCSMC` specifying the epsilon value at which to terminate.\n",
    "The default epsilon strategy is the `pyabc.epsilon.MedianEpsilon`.\n",
    "Whatever is reached first, the epsilon or the maximum number allowed populations,\n",
    "terminates the ABC run. The method returns a `pyabc.storage.History` object, which\n",
    "can, for example, be queried for the posterior probabilities."
   ]
  },
  {
   "cell_type": "code",
   "execution_count": 15,
   "metadata": {},
   "outputs": [
    {
     "name": "stderr",
     "output_type": "stream",
     "text": [
      "INFO:ABC:Calibration sample t=-1.\n",
      "INFO:Epsilon:initial epsilon is 0.47524473043139315\n",
      "INFO:ABC:t: 0, eps: 0.47524473043139315.\n",
      "INFO:ABC:Acceptance rate: 100 / 239 = 4.1841e-01, ESS=1.0000e+02.\n",
      "INFO:ABC:t: 1, eps: 0.2543126904589702.\n",
      "INFO:ABC:Acceptance rate: 100 / 387 = 2.5840e-01, ESS=8.8116e+01.\n",
      "INFO:ABC:t: 2, eps: 0.13613471256462184.\n",
      "INFO:ABC:Acceptance rate: 100 / 610 = 1.6393e-01, ESS=8.6433e+01.\n",
      "INFO:pyabc.util:Stopping: minimum epsilon.\n",
      "INFO:History:Done <ABCSMC id=11, duration=0:00:13.700707, end_time=2021-02-23 23:30:11.855227>\n"
     ]
    }
   ],
   "source": [
    "# We run the ABC until either criterion is met\n",
    "history = abc.run(minimum_epsilon=0.2, max_nr_populations=5)"
   ]
  },
  {
   "cell_type": "markdown",
   "metadata": {},
   "source": [
    "Note that the history object is also always accessible from the abcsmc object:"
   ]
  },
  {
   "cell_type": "code",
   "execution_count": 16,
   "metadata": {},
   "outputs": [
    {
     "data": {
      "text/plain": [
       "True"
      ]
     },
     "execution_count": 16,
     "metadata": {},
     "output_type": "execute_result"
    }
   ],
   "source": [
    "history is abc.history"
   ]
  },
  {
   "cell_type": "markdown",
   "metadata": {},
   "source": [
    "The `pyabc.storage.History>` object can, for example,\n",
    "be queried for the posterior probabilities in the populations:"
   ]
  },
  {
   "cell_type": "code",
   "execution_count": 17,
   "metadata": {},
   "outputs": [
    {
     "data": {
      "text/html": [
       "<div>\n",
       "<style scoped>\n",
       "    .dataframe tbody tr th:only-of-type {\n",
       "        vertical-align: middle;\n",
       "    }\n",
       "\n",
       "    .dataframe tbody tr th {\n",
       "        vertical-align: top;\n",
       "    }\n",
       "\n",
       "    .dataframe thead th {\n",
       "        text-align: right;\n",
       "    }\n",
       "</style>\n",
       "<table border=\"1\" class=\"dataframe\">\n",
       "  <thead>\n",
       "    <tr style=\"text-align: right;\">\n",
       "      <th>m</th>\n",
       "      <th>0</th>\n",
       "      <th>1</th>\n",
       "    </tr>\n",
       "    <tr>\n",
       "      <th>t</th>\n",
       "      <th></th>\n",
       "      <th></th>\n",
       "    </tr>\n",
       "  </thead>\n",
       "  <tbody>\n",
       "    <tr>\n",
       "      <th>0</th>\n",
       "      <td>0.380000</td>\n",
       "      <td>0.620000</td>\n",
       "    </tr>\n",
       "    <tr>\n",
       "      <th>1</th>\n",
       "      <td>0.318415</td>\n",
       "      <td>0.681585</td>\n",
       "    </tr>\n",
       "    <tr>\n",
       "      <th>2</th>\n",
       "      <td>0.262497</td>\n",
       "      <td>0.737503</td>\n",
       "    </tr>\n",
       "  </tbody>\n",
       "</table>\n",
       "</div>"
      ],
      "text/plain": [
       "m         0         1\n",
       "t                    \n",
       "0  0.380000  0.620000\n",
       "1  0.318415  0.681585\n",
       "2  0.262497  0.737503"
      ]
     },
     "execution_count": 17,
     "metadata": {},
     "output_type": "execute_result"
    }
   ],
   "source": [
    "# Evaluate the model probabililties\n",
    "model_probabilities = history.get_model_probabilities()\n",
    "model_probabilities"
   ]
  },
  {
   "cell_type": "markdown",
   "metadata": {},
   "source": [
    "And now, let's visualize the results:"
   ]
  },
  {
   "cell_type": "code",
   "execution_count": 18,
   "metadata": {},
   "outputs": [
    {
     "data": {
      "text/plain": [
       "<AxesSubplot:title={'center':'Model probabilities'}, xlabel='Population index', ylabel='Probability'>"
      ]
     },
     "execution_count": 18,
     "metadata": {},
     "output_type": "execute_result"
    },
    {
     "data": {
      "image/png": "[encoded data removed]",
      "text/plain": [
       "<Figure size 432x288 with 1 Axes>"
      ]
     },
     "metadata": {
      "needs_background": "light"
     },
     "output_type": "display_data"
    }
   ],
   "source": [
    "pyabc.visualization.plot_model_probabilities(history)"
   ]
  },
  {
   "cell_type": "markdown",
   "metadata": {},
   "source": [
    "So model 1 is the more probable one. Which is expected as it was centered at 1 and the observed data was also 1, whereas model 0 was centered at 0, which is farther away from the observed data. "
   ]
  }
 ],
 "metadata": {
  "celltoolbar": "Raw Cell Format",
  "kernelspec": {
   "display_name": "Python 3",
   "language": "python",
   "name": "python3"
  },
  "language_info": {
   "codemirror_mode": {
    "name": "ipython",
    "version": 3
   },
   "file_extension": ".py",
   "mimetype": "text/x-python",
   "name": "python",
   "nbconvert_exporter": "python",
   "pygments_lexer": "ipython3",
   "version": "3.9.1"
  }
 },
 "nbformat": 4,
 "nbformat_minor": 4
}
